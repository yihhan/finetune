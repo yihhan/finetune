{
  "cells": [
    {
      "cell_type": "markdown",
      "metadata": {},
      "source": [
        "# 🎉 LARGE DATASET SUCCESS - Proven Approach Scaled Up!\n",
        "\n",
        "**We proved the concept works with 10 samples (100% success rate)!**\n",
        "\n",
        "Now applying the SAME winning formula to the large dataset:\n",
        "\n",
        "## ✅ **Proven Formula:**\n",
        "- **AGGRESSIVE LoRA**: r=32, alpha=64, 4 target modules\n",
        "- **Training mode** during inference\n",
        "- **Sampling generation** (temperature=1.0, top_p=0.9)\n",
        "- **Device compatibility** (CUDA fix)\n",
        "- **496 Singapore financial Q&A pairs**\n",
        "\n",
        "## 🎯 **Expected Results:**\n",
        "- **Significant weight changes** (>0.01)\n",
        "- **≥80% different responses** (even better than 10 samples)\n",
        "- **Singapore-specific expertise** (MAS, SGD, regulations)\n",
        "- **Production-ready model**\n"
      ]
    },
    {
      "cell_type": "markdown",
      "metadata": {},
      "source": [
        "## 📦 Setup & Large Dataset Generation\n"
      ]
    },
    {
      "cell_type": "code",
      "execution_count": null,
      "metadata": {},
      "outputs": [],
      "source": [
        "!pip install transformers datasets peft torch accelerate -q\n",
        "\n",
        "import json\n",
        "import torch\n",
        "from datasets import Dataset\n",
        "from transformers import (\n",
        "    AutoTokenizer, \n",
        "    AutoModelForSeq2SeqLM, \n",
        "    TrainingArguments, \n",
        "    Trainer,\n",
        "    DataCollatorForSeq2Seq\n",
        ")\n",
        "from peft import LoraConfig, get_peft_model, TaskType\n",
        "from pathlib import Path\n",
        "\n",
        "print(\"🚀 LARGE DATASET SUCCESS - PROVEN APPROACH SCALED UP!\")\n",
        "print(\"=\" * 70)\n",
        "print(\"Applying winning formula to 496 Singapore financial Q&A pairs\")\n",
        "print(\"Expected: ≥80% different responses with Singapore expertise\")\n"
      ]
    },
    {
      "cell_type": "code",
      "execution_count": null,
      "metadata": {},
      "outputs": [],
      "source": [
        "# Generate large dataset (if not exists)\n",
        "large_dataset_path = \"processed_data/large_training_data.json\"\n",
        "\n",
        "if not Path(large_dataset_path).exists():\n",
        "    print(\"📊 Generating large dataset...\")\n",
        "    !python generate_training_data.py\n",
        "    print(\"✅ Large dataset generated!\")\n",
        "else:\n",
        "    print(\"✅ Large dataset already exists!\")\n",
        "\n",
        "# Load the large dataset\n",
        "print(f\"\\n📂 Loading large dataset from: {large_dataset_path}\")\n",
        "with open(large_dataset_path, 'r', encoding='utf-8') as f:\n",
        "    large_data = json.load(f)\n",
        "\n",
        "dataset = Dataset.from_list(large_data)\n",
        "print(f\"✅ Large dataset loaded: {len(dataset)} examples\")\n",
        "\n",
        "# Show sample\n",
        "print(f\"\\n📋 Sample data:\")\n",
        "print(f\"   Input: {dataset[0]['input']}\")\n",
        "print(f\"   Output: {dataset[0]['output'][:100]}...\")\n"
      ]
    }
  ],
  "metadata": {
    "language_info": {
      "name": "python"
    }
  },
  "nbformat": 4,
  "nbformat_minor": 2
}
