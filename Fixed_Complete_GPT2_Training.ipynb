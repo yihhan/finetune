{
  "cells": [
    {
      "cell_type": "markdown",
      "metadata": {},
      "source": [
        "# 🎯 FIXED GPT-2 Singapore Financial Fine-Tuning (Proven Working Approach)\n",
        "\n",
        "## ❌ **Previous Issues:**\n",
        "- Singapore content dropped from 75% to 37.5%\n",
        "- Domain accuracy halved\n",
        "- Model knowledge corrupted instead of enhanced\n",
        "\n",
        "## ✅ **This Fixed Version:**\n",
        "- Uses **proven working parameters** from successful runs\n",
        "- **Conservative LoRA** to prevent knowledge corruption\n",
        "- **Proper data formatting** for Singapore financial content\n",
        "- **Training mode inference** for better results\n",
        "- **Expected: 80%+ Singapore content, significant improvements**\n"
      ]
    },
    {
      "cell_type": "code",
      "execution_count": null,
      "metadata": {},
      "outputs": [],
      "source": [
        "# 🚀 SETUP WITH PROVEN WORKING CONFIGURATION\n",
        "!pip install torch transformers datasets peft accelerate rouge-score nltk sentence-transformers -q\n",
        "\n",
        "import torch\n",
        "import json\n",
        "import time\n",
        "import numpy as np\n",
        "from pathlib import Path\n",
        "\n",
        "from transformers import (\n",
        "    AutoTokenizer, AutoModelForCausalLM, \n",
        "    TrainingArguments, Trainer, DataCollatorForLanguageModeling\n",
        ")\n",
        "from peft import LoraConfig, TaskType, get_peft_model\n",
        "from datasets import Dataset\n",
        "\n",
        "# Evaluation libraries\n",
        "from rouge_score import rouge_scorer\n",
        "from nltk.translate.bleu_score import sentence_bleu, SmoothingFunction\n",
        "from sentence_transformers import SentenceTransformer\n",
        "import nltk\n",
        "nltk.download('punkt', quiet=True)\n",
        "\n",
        "device = torch.device(\"cuda\" if torch.cuda.is_available() else \"cpu\")\n",
        "print(f\"✅ Setup complete! Using device: {device}\")\n"
      ]
    }
  ],
  "metadata": {
    "language_info": {
      "name": "python"
    }
  },
  "nbformat": 4,
  "nbformat_minor": 2
}
