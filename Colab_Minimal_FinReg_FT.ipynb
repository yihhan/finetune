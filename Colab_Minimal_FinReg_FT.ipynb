{
  "cells": [
    {
      "cell_type": "markdown",
      "metadata": {},
      "source": [
        "# 🏦 Minimal Colab: Fine-tune Small LLM for SG Financial Regulations\n",
        "\n",
        "A streamlined notebook to run the improved pipeline only.\n"
      ]
    },
    {
      "cell_type": "code",
      "execution_count": null,
      "metadata": {},
      "outputs": [],
      "source": [
        "# 1) Setup\n",
        "!pip install -q torch transformers datasets peft accelerate bitsandbytes\n",
        "!pip install -q nltk rouge-score pandas numpy\n",
        "\n",
        "import nltk\n",
        "nltk.download('punkt')\n",
        "print('✅ Setup complete')\n"
      ]
    },
    {
      "cell_type": "code",
      "execution_count": null,
      "metadata": {},
      "outputs": [],
      "source": [
        "# 2) Clone repo and check GPU\n",
        "!git clone https://github.com/yihhan/finetune.git\n",
        "%cd finetune\n",
        "\n",
        "import torch\n",
        "print('Device:', 'CUDA' if torch.cuda.is_available() else 'CPU')\n"
      ]
    },
    {
      "cell_type": "code",
      "execution_count": null,
      "metadata": {},
      "outputs": [],
      "source": [
        "# 3) Idempotent enhanced dataset prep\n",
        "import os\n",
        "qa = 'processed_data/enhanced_financial_regulation_qa.json'\n",
        "tr = 'processed_data/enhanced_training_data.json'\n",
        "if not (os.path.exists(qa) and os.path.exists(tr)):\n",
        "    !python improved_dataset_prep.py\n",
        "else:\n",
        "    print('Enhanced dataset exists, skipping generation')\n",
        "\n",
        "print('Ready.')\n"
      ]
    },
    {
      "cell_type": "code",
      "execution_count": null,
      "metadata": {},
      "outputs": [],
      "source": [
        "# 4) Improved training (LoRA, better params)\n",
        "!python improved_train.py\n",
        "print('✅ Training done')\n"
      ]
    },
    {
      "cell_type": "code",
      "execution_count": null,
      "metadata": {},
      "outputs": [],
      "source": [
        "# 5) Quick inference (improved)\n",
        "!python improved_inference.py --question \"What are the capital adequacy requirements for banks in Singapore?\"\n"
      ]
    },
    {
      "cell_type": "code",
      "execution_count": null,
      "metadata": {},
      "outputs": [],
      "source": [
        "# 6) Optional: evaluation summary\n",
        "!python eval.py\n"
      ]
    }
  ],
  "metadata": {
    "language_info": {
      "name": "python"
    }
  },
  "nbformat": 4,
  "nbformat_minor": 2
}
